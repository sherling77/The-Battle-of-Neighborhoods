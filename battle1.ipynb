{
 "cells": [
  {
   "cell_type": "markdown",
   "metadata": {},
   "source": [
    "## Exploring New York Neighborhoods - to open a Chinese supermarket"
   ]
  },
  {
   "cell_type": "markdown",
   "metadata": {},
   "source": [
    "### 1. A description of the problem and a discussion of the background. "
   ]
  },
  {
   "cell_type": "markdown",
   "metadata": {},
   "source": [
    "New York, is the most populous city in the United States. It is the largest metropolitan area in the world by urban landmass and one of the world's most populous megacities.  As many as 800 languages are spoken in New York, making it the most linguistically diverse city in the world. New York City is home to 3.2 million residents born outside the United States. Also, New York is home to the largest ethnic Chinese population outside of Asia, with multiple distinct Chinatowns across the city. (__Taken from Wiki__) Thus, it is one of the best places to start an Chinese supermarket. "
   ]
  },
  {
   "cell_type": "markdown",
   "metadata": {},
   "source": [
    "In this project we will go through process to make a decision whether it is a good idea to open an Chinese supermarket. We analyze the neighborhoods in NY to identify the most profitable area since the success of the supermarket depends on the number of persons who might be shopping. Since we already know that it is a good idea to start the supermarket here, but we just need to make sure  where we can place it, so it yields more profit to the owner."
   ]
  },
  {
   "cell_type": "markdown",
   "metadata": {},
   "source": [
    "### 2. A description of the data and how it will be used to solve the problem. "
   ]
  },
  {
   "cell_type": "markdown",
   "metadata": {},
   "source": [
    "We will use the data mentioned in the last week's lab study. \n",
    "Neighborhood has a total of 5 boroughs and 306 neighborhoods. In order to segement the neighborhoods and explore them, we will essentially need a dataset that contains the 5 boroughs and the neighborhoods that exist in each borough as well as the the latitude and logitude coordinates of each neighborhood.\n",
    "\n",
    "This dataset exists for free on the web. Here is the link to the dataset: https://geo.nyu.edu/catalog/nyu_2451_34572\n",
    "\n",
    "Also, we will get location data using Foursquare. Foursquare API is very useful online application used my many developers & other applications like Uber etc. In this project I have used it to retrieve information about the places present in the neighborhoods of NY. The API returns a JSON file and we need to turn that into a data-frame. For example, we could choose 100 popular spots for each neighborhood within a radius of 1km. \n",
    "\n",
    "Then, we could try to find and analyze relationship between neighborhood and Chinese supermarket."
   ]
  }
 ],
 "metadata": {
  "kernelspec": {
   "display_name": "Python",
   "language": "python",
   "name": "conda-env-python-py"
  },
  "language_info": {
   "codemirror_mode": {
    "name": "ipython",
    "version": 3
   },
   "file_extension": ".py",
   "mimetype": "text/x-python",
   "name": "python",
   "nbconvert_exporter": "python",
   "pygments_lexer": "ipython3",
   "version": "3.6.7"
  }
 },
 "nbformat": 4,
 "nbformat_minor": 4
}
